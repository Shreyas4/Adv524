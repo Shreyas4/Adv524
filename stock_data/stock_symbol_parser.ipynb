{
 "cells": [
  {
   "cell_type": "code",
   "execution_count": null,
   "outputs": [],
   "source": [
    "import pandas as pd\n",
    "import yfinance as yf\n",
    "def editDistDP(str1, str2):\n",
    "    m = len(str1)\n",
    "    n = len(str2)\n",
    "    dp = [[0 for x in range(n + 1)] for x in range(m + 1)]\n",
    "    for i in range(m + 1):\n",
    "        for j in range(n + 1):\n",
    "            if i == 0:\n",
    "                dp[i][j] = j\n",
    "            elif j == 0:\n",
    "                dp[i][j] = i\n",
    "            elif str1[i-1] == str2[j-1]:\n",
    "                dp[i][j] = dp[i-1][j-1]\n",
    "            else:\n",
    "                dp[i][j] = 1 + min(dp[i][j-1], dp[i-1][j], dp[i-1][j-1])\n",
    "    return dp[m][n]"
   ],
   "metadata": {
    "collapsed": false,
    "pycharm": {
     "name": "#%%\n"
    }
   }
  },
  {
   "cell_type": "code",
   "execution_count": null,
   "metadata": {
    "collapsed": true,
    "pycharm": {
     "is_executing": true
    }
   },
   "outputs": [],
   "source": [
    "us_companies = list(pd.read_csv('us_companies.csv').ix[:,1])\n",
    "us_companies = set([x.strip().split()[0] for x in us_companies])\n",
    "us_companies"
   ]
  },
  {
   "cell_type": "code",
   "execution_count": null,
   "outputs": [
    {
     "name": "stdout",
     "output_type": "stream",
     "text": [
      "- ACSG: No data found for this date range, symbol may be delisted\n",
      "- AFMC: No data found for this date range, symbol may be delisted\n",
      "- AFSM: No data found for this date range, symbol may be delisted\n",
      "- AGND: No data found for this date range, symbol may be delisted\n",
      "- ALACR: No data found for this date range, symbol may be delisted\n",
      "- ARYAU: No data found for this date range, symbol may be delisted\n",
      "- ASNA: No data found for this date range, symbol may be delisted\n",
      "- BANFP: No data found for this date range, symbol may be delisted\n",
      "- BDXA: No data found for this date range, symbol may be delisted\n",
      "- BJUL: No data found for this date range, symbol may be delisted\n",
      "- BNKO: No data found for this date range, symbol may be delisted\n",
      "- BNKZ: No data found for this date range, symbol may be delisted\n",
      "- BRPAU: No data found for this date range, symbol may be delisted\n",
      "- BTYS: No data found for this date range, symbol may be delisted\n",
      "- BUL: No data found for this date range, symbol may be delisted\n",
      "- BUYN: No data found for this date range, symbol may be delisted\n",
      "- CHAP: No data found for this date range, symbol may be delisted\n",
      "- CHK: No data found for this date range, symbol may be delisted\n",
      "- CIFS: No data found for this date range, symbol may be delisted\n",
      "- CLRG: No data found for this date range, symbol may be delisted\n",
      "- CRC: No data found for this date range, symbol may be delisted\n",
      "- CSA: No data found for this date range, symbol may be delisted\n",
      "- CSFL: No data found for this date range, symbol may be delisted\n",
      "- DCHF: No data found for this date range, symbol may be delisted\n",
      "- DFVS: No data found for this date range, symbol may be delisted\n",
      "- DGAZ: No data found for this date range, symbol may be delisted\n",
      "- DGLD: No data found for this date range, symbol may be delisted\n",
      "- DIET: No data found for this date range, symbol may be delisted\n",
      "- DIVC: No data found for this date range, symbol may be delisted\n",
      "- DJCB: No data found for this date range, symbol may be delisted\n",
      "- DJCI: No data found for this date range, symbol may be delisted\n",
      "- DLBR: No data found for this date range, symbol may be delisted\n",
      "- DMRE: No data found for this date range, symbol may be delisted\n",
      "- DNJR: No data found for this date range, symbol may be delisted\n",
      "- DNR: No data found for this date range, symbol may be delisted\n",
      "- DSLV: No data found for this date range, symbol may be delisted\n",
      "- DTUL: No data found for this date range, symbol may be delisted\n",
      "- DTUS: No data found for this date range, symbol may be delisted\n",
      "- DTYL: No data found for this date range, symbol may be delisted\n",
      "- DWCR: No data found for this date range, symbol may be delisted\n",
      "- DWT: No data found for this date range, symbol may be delisted\n",
      "- DXB: No data found for this date range, symbol may be delisted\n",
      "- DYLS: No data found for this date range, symbol may be delisted\n"
     ]
    },
    {
     "name": "stderr",
     "output_type": "stream",
     "text": [
      "From cffi callback <function _verify_callback at 0x000002856D949EE8>:\n",
      "Traceback (most recent call last):\n",
      "  File \"c:\\users\\shrey\\appdata\\local\\programs\\python\\python37\\lib\\site-packages\\OpenSSL\\SSL.py\", line 311, in wrapper\n",
      "    @wraps(callback)\n",
      "KeyboardInterrupt\n"
     ]
    }
   ],
   "source": [
    "dict = {}\n",
    "symbols_df = pd.read_csv('symbols_valid_meta.csv')\n",
    "count = 0\n",
    "for i, r in symbols_df.iterrows():\n",
    "    c = r['Security Name']\n",
    "    for comp in us_companies:\n",
    "        if c.find(comp)>-1:\n",
    "            try:\n",
    "                dict[comp] = yf.Ticker(r['Symbol']).history(period='1d').tail(1)['Close'].iloc[0]\n",
    "                count+=1\n",
    "                break\n",
    "            except:\n",
    "                break\n",
    "\n",
    "count"
   ],
   "metadata": {
    "collapsed": false,
    "pycharm": {
     "name": "#%%\n",
     "is_executing": true
    }
   }
  },
  {
   "cell_type": "code",
   "execution_count": 8,
   "outputs": [
    {
     "data": {
      "text/plain": "{'Mint': 19.42,\n 'R': 8.03,\n 'The': 22.29,\n 'Energy': 68.44,\n 'Science': 19.09,\n 'Credit': 28.9,\n 'US': 0.26,\n 'United': 159.75,\n 'Funding': 25.5,\n 'National': 11.54,\n 'First': 26.25,\n 'U.S.': 173.2,\n 'New': 69.76,\n 'Morgan': 8.73,\n 'Fitch': 15.35,\n 'Next': 10.07,\n 'Way': 25.57,\n 'Liberty': 6.04,\n 'Code': 12.01,\n 'Golden': 52.21,\n 'State': 34.17,\n 'S&P': 41.11,\n 'Standard': 19.3,\n 'Environmental': 7.19,\n 'J.P.': 42.78,\n 'Eat': 7.71,\n 'Dow': 51.57,\n 'Consumer': 38.97,\n 'Robinson': 103.57,\n 'Nationwide': 31.82,\n 'CoreLogic': 67.41,\n 'Computer': 26.39,\n 'Solar': 32.74,\n 'Smart': 17.82,\n 'North': 31.73,\n 'Government': 80.2,\n 'Dun': 53.52,\n 'KLD': 128.38,\n 'Equal': 32.53,\n 'People': 20.38,\n 'Development': 22.04,\n 'Equifax': 159.16,\n 'Personal': 23.08,\n 'Impact': 25.25,\n 'Earth': 2.76,\n 'Climate': 30.08,\n 'Fidelity': 425.53,\n 'Construction': 13.4,\n 'Farmers': 21.12,\n 'Sterling': 11.53,\n 'Garmin': 98.2,\n 'Sage': 60.1,\n 'Inovalon': 25.53,\n 'Merrill': 28.87,\n 'Kaiser': 60.78,\n 'Knowledge': 38.02,\n 'Lending': 16.93,\n 'Level': 16.1,\n 'Harris': 185.44,\n 'Liquid': 1.5,\n 'Lilly': 152.47,\n \"Moody's\": 282.71,\n 'MetLife': 39.32,\n 'T.': 2.38,\n 'Morningstar,': 157.97,\n 'Marlin': 8.29,\n 'Microsoft': 202.91,\n 'Urban': 22.61,\n 'Nielsen': 15.47,\n 'Open': 5.96,\n 'Progressive': 95.43,\n 'Parsons': 35.4,\n 'Quid': 170.75,\n 'IW': 16.28,\n 'SAP': 160.43,\n 'Compliance': 7.19,\n 'Social': 34.0,\n 'Splunk': 177.68,\n 'Teradata': 22.3,\n 'Telenav': 4.03,\n 'TransUnion': 87.58,\n 'TrueCar': 4.82,\n 'Uber': 37.06,\n 'Wheaton': 52.58,\n 'Yelp': 21.39,\n 'Zillow': 95.97}"
     },
     "execution_count": 8,
     "metadata": {},
     "output_type": "execute_result"
    }
   ],
   "source": [
    "dict"
   ],
   "metadata": {
    "collapsed": false,
    "pycharm": {
     "name": "#%%\n"
    }
   }
  },
  {
   "cell_type": "code",
   "execution_count": 9,
   "outputs": [],
   "source": [
    "with open('stock_price_data.csv', 'w') as f:\n",
    "    for key in dict.keys():\n",
    "        f.write(\"%s,%s\\n\"%(key,dict[key]))"
   ],
   "metadata": {
    "collapsed": false,
    "pycharm": {
     "name": "#%%\n"
    }
   }
  }
 ],
 "metadata": {
  "kernelspec": {
   "display_name": "Python 3",
   "language": "python",
   "name": "python3"
  },
  "language_info": {
   "codemirror_mode": {
    "name": "ipython",
    "version": 2
   },
   "file_extension": ".py",
   "mimetype": "text/x-python",
   "name": "python",
   "nbconvert_exporter": "python",
   "pygments_lexer": "ipython2",
   "version": "2.7.6"
  }
 },
 "nbformat": 4,
 "nbformat_minor": 0
}