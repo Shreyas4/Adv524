{
 "cells": [
  {
   "cell_type": "code",
   "execution_count": 4,
   "outputs": [],
   "source": [
    "from fuzzywuzzy import process\n",
    "# str2Match = \"apple inc\"\n",
    "# strOptions = [\"Apple Inc.\",\"apple park\",\"apple incorporated\",\"iphone\"]\n",
    "# Ratios = process.extract(str2Match,strOptions)\n",
    "# print(Ratios)\n",
    "# # You can also select the string with the highest matching percentage\n",
    "# highest = process.extractOne(str2Match,strOptions)\n",
    "# print(highest)"
   ],
   "metadata": {
    "collapsed": false,
    "pycharm": {
     "name": "#%%\n"
    }
   }
  },
  {
   "cell_type": "code",
   "execution_count": 5,
   "outputs": [
    {
     "data": {
      "text/plain": "587"
     },
     "execution_count": 5,
     "metadata": {},
     "output_type": "execute_result"
    }
   ],
   "source": [
    "import pandas as pd\n",
    "companies_data = pd.read_csv('companies_data.csv')\n",
    "companies_list = list(companies_data['Company Name'])\n",
    "len(companies_list)"
   ],
   "metadata": {
    "collapsed": false,
    "pycharm": {
     "name": "#%%\n"
    }
   }
  },
  {
   "cell_type": "code",
   "execution_count": 6,
   "outputs": [
    {
     "name": "stdout",
     "output_type": "stream",
     "text": [
      "0\n",
      "100\n",
      "200\n",
      "300\n",
      "400\n",
      "500\n",
      "600\n",
      "700\n",
      "800\n",
      "900\n",
      "1000\n",
      "1100\n",
      "1200\n",
      "1300\n",
      "1400\n",
      "1500\n",
      "1600\n",
      "1700\n",
      "1800\n",
      "1900\n",
      "2000\n",
      "2100\n",
      "2200\n",
      "2300\n",
      "2400\n",
      "2500\n",
      "2600\n",
      "2700\n",
      "2800\n",
      "2900\n",
      "3000\n",
      "3100\n",
      "3200\n",
      "3300\n",
      "3400\n",
      "3500\n",
      "3600\n",
      "3700\n",
      "3800\n",
      "3900\n",
      "4000\n",
      "4100\n",
      "4200\n",
      "4300\n",
      "4400\n",
      "4500\n",
      "4600\n",
      "4700\n",
      "4800\n",
      "4900\n",
      "5000\n",
      "5100\n",
      "5200\n",
      "5300\n",
      "5400\n",
      "5500\n",
      "5600\n",
      "5700\n",
      "5800\n",
      "5900\n",
      "6000\n",
      "6100\n",
      "6200\n",
      "6300\n",
      "6400\n",
      "6500\n",
      "6600\n",
      "6700\n",
      "6800\n",
      "6900\n",
      "7000\n",
      "7100\n",
      "7200\n",
      "7300\n",
      "7400\n",
      "7500\n",
      "7600\n",
      "7700\n",
      "7800\n",
      "7900\n",
      "8000\n",
      "8100\n",
      "8200\n",
      "8300\n",
      "8400\n",
      "8500\n",
      "8600\n",
      "8700\n",
      "8800\n"
     ]
    }
   ],
   "source": [
    "from collections import OrderedDict\n",
    "companies_symbols_data = pd.read_csv('symbols.csv')[['name', 'symbol']]\n",
    "companies_symbols_dict = {}\n",
    "companies_highest_match_seen = {}\n",
    "companies_best_match_symbol = {}\n",
    "for i,r in companies_symbols_data.iterrows():\n",
    "    companies_symbols_dict[r['name']] = r['symbol']\n",
    "    tup = process.extractOne(r['name'],companies_list)\n",
    "    if tup[0] not in companies_highest_match_seen:\n",
    "        companies_best_match_symbol[tup[0]] = r['symbol']\n",
    "        companies_highest_match_seen[tup[0]] = tup[1]\n",
    "    elif tup[0] in companies_highest_match_seen and companies_highest_match_seen[tup[0]]<tup[1]:\n",
    "        companies_best_match_symbol[tup[0]] = r['symbol']\n",
    "        companies_highest_match_seen[tup[0]] = tup[1]\n",
    "    if i%100==0:\n",
    "        print(i)\n",
    "\n",
    "import pickle\n",
    "# a_file = open(\"companies_best_match_symbol.pkl\", \"wb\")\n",
    "# pickle.dump(companies_best_match_symbol, a_file)\n",
    "# a_file.close()\n",
    "\n",
    "# for k in companies_symbols_dict:\n",
    "#     print(k, companies_symbols_dict[k])\n",
    "# companies_symbols_names = list(companies_symbols_dict.keys())"
   ],
   "metadata": {
    "collapsed": false,
    "pycharm": {
     "name": "#%%\n"
    }
   }
  },
  {
   "cell_type": "code",
   "execution_count": 8,
   "outputs": [
    {
     "name": "stdout",
     "output_type": "stream",
     "text": [
      "- TECD: No data found for this date range, symbol may be delisted\n",
      "- BF.A: No data found, symbol may be delisted\n",
      "- BRK.A: No data found, symbol may be delisted\n",
      "- PSB-W: No data found, symbol may be delisted\n"
     ]
    },
    {
     "data": {
      "text/plain": "{'Agilent Technologies': 101.22,\n 'Packaging Corp of America': 107.65,\n 'Incyte': 92.43,\n 'Carrier Global': 30.77,\n 'Rite Aid': 9.61,\n 'American Airlines Group': 12.58,\n 'Waste Management': 112.89,\n 'American Express': 101.33,\n \"Lowe's\": 167.17,\n 'Applied Materials': 60.65,\n 'NCR': 25.11,\n 'Advance Auto Parts': 154.85,\n 'Apple': 116.79,\n 'KLA': 9.17,\n 'Delta Air Lines': 31.1,\n 'Ares Capital': 25.45,\n 'Public Service Enterprise Group': 55.07,\n 'S&P Global': 363.73,\n 'NiSource': 22.0,\n 'AbbVie': 87.14,\n 'AmerisourceBergen': 95.36,\n 'New York Community Bancorp': 8.22,\n 'Core-Mark Holding': 29.04,\n 'Visa': 203.35,\n 'UnitedHealth Group': 313.33,\n 'Mohawk Industries': 98.4,\n 'Northern Trust': 77.05,\n 'Abbott Laboratories': 108.64,\n 'Alleghany': 525.74,\n 'Masco': 55.14,\n 'Vertex Pharmaceuticals': 273.51,\n 'Bank of America': 24.1,\n 'Conagra Brands': 35.87,\n 'Caesars Entertainment': 57.1,\n 'Duke Energy': 90.05,\n 'CME Group': 170.25,\n 'Southern Company': 54.62,\n 'Gilead Sciences': 63.32,\n 'SBA Communications': 315.18,\n 'Realty Income': 62.28,\n 'IBM': 4.85,\n 'Otis Worldwide': 62.37,\n 'Dell Technologies': 67.54,\n 'AECOM Technology': 42.24,\n 'Lam Research': 339.13,\n 'Centene': 58.82,\n 'LabCorp': 4.26,\n 'Alexion Pharmaceuticals': 115.63,\n 'Equity Residential': 53.44,\n 'CarMax': 93.49,\n 'United Rentals': 175.35,\n 'MSCI': 80.52,\n 'Zoetis': 164.03,\n 'Adobe': 499.51,\n 'Vornado Realty': 34.65,\n 'CSX': 76.86,\n 'Motorola Solutions': 156.79,\n 'Analog Devices': 118.99,\n 'Regeneron Pharmaceuticals': 568.14,\n 'Archer Daniels Midland': 46.6,\n 'Hologic': 66.35,\n 'Alnylam Pharmaceuticals': 143.74,\n 'PPL': 7.6,\n 'Automatic Data Processing': 137.7,\n 'News Corp': 14.15,\n 'Invesco': 47.1,\n 'Cisco Systems': 38.8,\n 'Autodesk': 233.96,\n 'Republic Services': 92.97,\n 'Lear': 39.84,\n 'Capital One Financial': 72.93,\n 'Ameren': 79.86,\n 'F.N.B.': 6.71,\n 'Nucor': 45.05,\n 'American Equity Investment': 31.68,\n 'American Electric': 83.06,\n 'Norwegian Cruise Line Holdings': 17.35,\n 'AES': 17.92,\n 'Lincoln National': 31.89,\n 'American Financial Group': 68.95,\n 'Truist Financial': 38.75,\n 'Fluor': 9.15,\n 'Universal Health': 106.2,\n 'IDEX': 178.12,\n 'Aflac': 36.39,\n 'Cigna': 167.38,\n 'Ball': 16.45,\n 'ResMed': 169.51,\n 'Snap-on': 0.28,\n 'Clorox': 211.65,\n 'Amgen': 255.39,\n \"McDonald's\": 219.59,\n 'C.H. Robinson': 101.22,\n 'Walmart': 143.08,\n 'Kinder Morgan': 12.24,\n 'D.R. Horton': 77.54,\n 'E-Trade Financial': 49.26,\n 'AGNC Investment': 13.9,\n 'PG&E': 9.83,\n 'Booking Holdings': 1742.98,\n 'Raytheon Technologies': 57.46,\n 'Boston Properties': 82.83,\n 'HCA Healthcare': 124.56,\n 'J.B. Hunt Transport Services': 125.21,\n 'Manpower': 72.57,\n 'American International Group': 27.72,\n 'DXC Technology': 18.81,\n 'Honeywell International': 163.68,\n 'Mondelez International': 57.91,\n 'Micron Technology': 47.92,\n 'AT&T': 59.8,\n 'Merck & Co.': 81.64,\n 'Assurant': 122.47,\n 'Gallagher': 105.61,\n 'Akamai Technologies': 109.93,\n 'Duke Realty': 37.49,\n 'Air Lease': 30.93,\n 'Alphabet': 1490.09,\n 'Align Technology': 317.61,\n 'Quanta Services': 53.56,\n 'Alaska Air Group': 36.91,\n 'Allstate': 92.26,\n 'Ally Financial': 25.5,\n 'Salesforce.com': 253.45,\n 'Verizon Communications': 59.45,\n 'Jacobs Engineering': 91.45,\n 'Corning': 32.53,\n 'M&T Bank': 92.21,\n 'Markel': 965.65,\n 'TD Ameritrade Holding': 40.92,\n 'Arista Networks': 207.05,\n 'Advanced Micro Devices': 84.86,\n 'Ametek': 99.85,\n 'Morgan Stanley': 47.26,\n 'Prudential Financial': 63.51,\n 'Ameriprise Financial': 155.31,\n 'American Tower': 242.15,\n 'US Bancorp': 36.0,\n 'Amazon': 3221.26,\n 'AutoNation': 54.55,\n 'American National Insurance': 68.27,\n 'ServiceNow': 492.52,\n 'Lennar': 82.93,\n 'KeyCorp': 11.92,\n 'Ansys': 334.8,\n 'Anthem': 270.17,\n 'Heico': 105.42,\n 'Air Products & Chemicals': 294.67,\n 'L Brands': 6.2,\n 'Amphenol': 109.79,\n 'AvalonBay Communities': 155.6,\n 'Union Pacific': 194.23,\n 'Global Payments': 179.24,\n 'EOG Resources': 34.86,\n 'Comcast': 46.44,\n 'Alexandria Real Estate Equities': 163.19,\n 'Intel': 6.94,\n 'Target': 131.76,\n 'Invitation Homes': 28.77,\n 'Westinghouse Air Brake Technologies': 60.73,\n 'Aramark': 27.06,\n 'Biogen': 285.57,\n 'Arrow Electronics': 79.02,\n 'Leidos': 90.42,\n 'GCI Liberty': 83.58,\n 'Stryker': 208.67,\n 'NVR': 4228.31,\n 'DuPont de Nemours': 54.53,\n 'Crown Holdings': 75.98,\n 'Take-Two Interactive Software': 166.11,\n 'AutoZone': 1181.72,\n 'Waters': 195.68,\n 'International Flavors & Fragrances': 120.09,\n 'Atmos Energy': 95.47,\n 'Altice USA': 26.12,\n 'Activision Blizzard': 82.68,\n 'Twilio': 256.96,\n 'Huntington Bank': 9.15,\n 'Dow': 46.97,\n 'Deere & Company': 219.04,\n 'DaVita': 82.82,\n 'Corteva': 28.68,\n 'Edison International': 50.44,\n 'Broadcom': 368.6,\n 'Avnet': 26.31,\n 'Avery Dennison': 124.65,\n 'CVS Health': 57.84,\n 'American Water Works': 148.57,\n 'Discover Financial Services': 58.91,\n 'Marathon Petroleum': 27.71,\n 'Quest Diagnostics': 112.7,\n 'Baxter International': 79.72,\n 'Yum! Brands': 91.82,\n 'NetApp': 42.89,\n 'Boeing': 167.86,\n 'BlackRock': 567.91,\n 'Booz Allen Hamilton Holding': 83.05,\n 'First Horizon National': 9.59,\n 'Tesla': 448.16,\n 'Murphy Oil': 8.43,\n 'Uber': 37.14,\n 'JPMorgan Chase': 96.97,\n 'MetLife': 37.26,\n 'United Airlines Holdings': 35.18,\n 'Hess': 38.98,\n 'Best Buy': 114.09,\n 'State Street': 58.75,\n 'Qualcomm': 119.52,\n 'Oracle': 59.68,\n 'BioMarin Pharmaceutical': 75.82,\n 'Wells Fargo': 14.5,\n 'Becton Dickinson': 230.85,\n 'Tractor Supply': 31.59,\n 'Franklin Resources': 19.99,\n 'Roku': 200.34,\n 'United Parcel Service': 167.65,\n 'Berry Global Group': 49.35,\n 'Bank of New York Mellon': 34.17,\n 'BOK Financial': 51.64,\n 'Kroger': 34.02,\n 'Cerner': 72.31,\n 'CenturyLink': 9.95,\n 'First Republic Bank': 110.37,\n 'Bunge': 45.83,\n 'Copart': 107.22,\n 'US Foods': 22.58,\n 'Brighthouse Financial': 27.76,\n 'MGM Resorts': 21.82,\n 'NASDAQ': 71.28,\n 'Pfizer': 36.37,\n 'Bio-Rad Laboratories': 520.81,\n \"BJ's Wholesale Club\": 41.05,\n 'Okta': 219.3,\n 'Baker Hughes Company': 12.76,\n 'International Paper': 39.95,\n 'Steel Dynamics': 29.09,\n 'Comerica': 38.08,\n 'Principal Financial Group': 40.36,\n 'Bristol-Myers Squibb': 59.82,\n 'World Fuel Services': 21.27,\n 'United Natural Foods': 15.84,\n 'Boston Scientific': 38.42,\n 'Hertz Global Holdings': 1.1,\n 'Intuit': 332.34,\n 'Simon Property Group': 66.53,\n 'Broadridge Financial': 133.94,\n 'Tyson Foods': 59.22,\n 'Brown & Brown': 44.94,\n 'Exelon': 35.83,\n 'Oneok': 25.27,\n 'Square': 1.38,\n 'Danaher': 214.67,\n 'Burlington Stores': 208.54,\n 'HP': 113.33,\n 'Entergy': 25.15,\n 'BorgWarner': 39.54,\n 'Citigroup': 43.44,\n 'Cadence Design': 108.63,\n 'Cardinal Health': 46.08,\n 'NVIDIA': 544.58,\n 'Avis Budget Group': 28.73,\n 'Community Health Systems': 4.32,\n 'General Electric': 6.24,\n 'Caterpillar': 146.71,\n 'General Motors': 30.38,\n 'Cincinnati Financial': 76.49,\n 'PNC Financial Services': 109.43,\n 'CBRE Group': 47.4,\n 'Commerce Bank': 55.86,\n 'Sysco': 62.62,\n 'Coca-Cola': 39.58,\n 'Crown Castle International': 168.01,\n 'Carnival': 15.03,\n 'Cabot Oil & Gas': 16.85,\n 'Fiserv': 104.25,\n 'CDW': 123.5,\n 'DexCom': 413.84,\n 'Celanese': 106.04,\n 'Southwest Airlines': 37.93,\n 'Western Union': 21.48,\n 'Monster Beverage': 81.48,\n 'US Steel': 0.6057,\n 'FedEx': 254.08,\n 'Citizens Financial Group': 25.43,\n 'Cullen/Frost Bankers': 63.75,\n 'The Estée Lauder Companies': 2.48,\n 'Church & Dwight': 93.1,\n 'Chesapeake Energy': 3.93,\n 'Cummins': 207.04,\n 'Charter Communications': 635.11,\n 'Cintas': 341.93,\n 'Chewy': 58.93,\n 'Chimera Investment': 8.23,\n 'Kansas City Southern': 179.45,\n 'CIT Group': 18.72,\n 'Colgate-Palmolive': 77.06,\n 'IDEXX Laboratories': 394.78,\n 'Ross Stores': 94.83,\n 'Continental Resources': 11.76,\n 'Newmont Mining': 16.41,\n \"Moody's\": 293.5,\n 'Chipotle Mexican Grill': 1238.02,\n 'CMS Energy': 61.68,\n 'CNO Financial Group': 16.3,\n 'CenterPoint Energy': 19.4,\n 'Ecolab': 197.08,\n 'Cooper Companies': 338.77,\n 'ConocoPhillips': 32.43,\n 'Costco Wholesale': 358.46,\n 'Coty': 2.85,\n \"Macy's\": 5.84,\n 'Campbell Soup': 48.52,\n 'Cheniere Energy': 46.34,\n 'Tiffany & Co.': 116.03,\n 'DISH Network': 28.78,\n 'Dollar General': 211.52,\n 'Discovery': 40.1,\n 'CoStar Group': 865.38,\n 'Charles Schwab': 37.73,\n 'Cognizant': 69.33,\n 'Citrix Systems': 139.2,\n 'Dover': 107.14,\n 'Chevron': 70.42,\n 'Trimble': 48.87,\n 'Pinnacle West': 75.32,\n 'Humana': 415.36,\n 'Dominion Energy': 78.59,\n 'Howmet Aerospace': 17.23,\n 'Dollar Tree': 91.87,\n 'Pioneer Natural Resources': 84.57,\n 'Walt Disney': 123.31,\n 'XPO Logistics': 85.18,\n 'Digital Realty Trust': 147.25,\n 'Western Digital': 36.33,\n 'DocuSign': 222.26,\n 'Amdocs': 57.54,\n \"Domino's Pizza\": 426.99,\n 'Darden Restaurants': 104.88,\n 'Gap': 17.87,\n 'DTE Energy': 113.44,\n 'PVH': 60.59,\n 'Electronic Arts': 132.78,\n 'Progressive': 93.46,\n 'Fortive': 75.34,\n 'Moderna': 70.03,\n 'eBay': 52.38,\n 'Consolidated Edison': 79.04,\n 'Equifax': 158.01,\n 'VICI Properties': 23.72,\n 'Welltower': 56.42,\n 'Phillips 66': 50.28,\n 'Paycom': 320.44,\n 'Eastman Chemical': 76.31,\n 'Emerson Electric': 64.63,\n 'Eli Lilly': 144.29,\n 'Healthpeak Properties': 28.04,\n 'Equitable Holdings': 18.61,\n 'Equinix': 768.35,\n 'Eversource Energy': 85.45,\n 'Zoom Video Communications': 482.99,\n 'Essex Property Trust': 206.82,\n 'East West Bancorp': 32.82,\n 'Texas Instruments': 144.91,\n 'Huntington Ingalls Industries': 139.98,\n 'Evergy': 50.82,\n 'Edwards Lifesciences': 78.98,\n 'Expeditors International': 89.29,\n 'Expedia Group': 92.06,\n 'Extra Space Storage': 109.24,\n 'iHeartMedia': 8.13,\n 'Ford Motor': 6.75,\n 'First American Financial': 51.21,\n 'Diamondback Energy': 29.09,\n 'Fastenal': 44.76,\n 'Facebook': 266.63,\n 'Home Depot': 277.7,\n 'T Rowe Price': 42.58,\n 'Frontier Communications': 13.43,\n 'Freeport-McMoRan': 15.55,\n 'Fidelity National Information': 146.87,\n 'Unum': 2.26,\n 'FirstEnergy': 28.76,\n 'Fox': 28.21,\n 'Hormel Foods': 49.28,\n 'Fifth Third Bank': 26.56,\n 'Foot Locker': 34.11,\n 'Loews': 34.86,\n 'FleetCor Technologies': 237.18,\n 'Prosperity Bancshares': 51.56,\n 'FMC': 103.19,\n 'Fortinet': 120.25,\n 'TCF Financial': 23.81,\n 'Fidelity National Financial': 31.89,\n 'Microsoft': 212.46,\n 'Hilton': 21.38,\n 'Performance Food Group': 35.62,\n 'Goldman Sachs Group': 198.55,\n 'General Dynamics': 138.22,\n 'Sears Holdings': 11.35,\n 'General Mills': 62.57,\n 'Globe Life': 80.52,\n 'Starwood Property Trust': 15.22,\n 'Genworth Financial': 3.16,\n 'Genuine Parts': 94.94,\n 'Goodyear': 8.32,\n 'WW Grainger': 358.03,\n 'Hyatt Hotels': 53.64,\n 'Halliburton': 11.17,\n 'Hasbro': 82.95,\n 'Twitter': 46.7,\n 'HollyFrontier': 18.94,\n 'Hartford Financial Services': 36.77,\n 'Hewlett Packard Enterprise': 9.23,\n 'Henry Schein': 57.92,\n 'Host Hotels & Resorts': 11.14,\n 'Hershey': 143.93,\n 'Huntsman': 22.05,\n 'Old Dominion Freight Line': 182.77,\n 'IAC/InterActiveCorp': 124.78,\n 'Regions Financial': 11.53,\n 'Interactive Brokers Group': 48.58,\n 'Tenneco': 7.2,\n 'IntercontinentalExchange': 101.43,\n 'Medical Properties Trust': 18.18,\n 'Voya Financial': 47.92,\n 'Illumina': 309.61,\n 'INTL FCStone': 50.71,\n 'New Residential Investment': 8.12,\n 'Interpublic Group': 16.77,\n 'IQVIA': 158.33,\n 'VeriSign': 207.22,\n 'Intuitive Surgical': 710.52,\n 'Marriott International': 94.35,\n 'Illinois Tool Works': 190.9,\n 'Jabil Circuit': 34.63,\n 'JetBlue Airways': 11.46,\n 'Johnson & Johnson': 147.32,\n 'Jefferies Financial': 18.04,\n 'Raymond James Financial': 72.69,\n 'Jones Lang LaSalle': 96.5,\n 'Netflix': 527.51,\n 'Navient': 21.46,\n 'Nordstrom': 12.6,\n 'Kellogg': 64.38,\n 'Keurig Dr Pepper': 28.01,\n 'Keysight Technologies': 97.48,\n 'Kraft Heinz Company': 30.37,\n 'Kimberly-Clark': 147.63,\n 'Nike': 126.64,\n \"Kohl's\": 19.46,\n 'Textron': 35.11,\n 'Liberty Broadband': 144.34,\n 'L3Harris Technologies': 172.69,\n 'Xilinx': 105.91,\n 'LKQ': 28.01,\n 'Mid-america Apartment Communities': 120.29,\n 'Lockheed Martin': 380.89,\n 'Alliant Energy': 52.33,\n 'Ventas': 43.49,\n 'Las Vegas Sands': 46.22,\n 'Lamb Weston Holdings': 66.67,\n 'Live Nation Entertainment': 53.74,\n 'Mastercard': 343.37,\n 'Veeva Systems': 277.04,\n 'Microchip Technology': 107.05,\n 'McKesson': 146.96,\n 'McCormick': 193.2,\n 'Marketaxess Holdings': 482.97,\n 'Martin Marietta Materials': 234.87,\n 'Marsh & McLennan': 114.23,\n 'Freddie Mac': 27.17,\n '3M': 158.79,\n 'Altria Group': 38.92,\n 'Molina Healthcare': 188.18,\n 'Mosaic': 17.79,\n 'Marathon Oil': 3.95,\n 'Match Group': 116.21,\n 'Mettler-Toledo International': 970.92,\n 'Murphy USA': 127.92,\n 'Annaly Capital Management': 7.12,\n 'Maxim Integrated Products': 69.28,\n 'Valero Energy': 40.28,\n 'Snap': 145.12,\n 'NextEra Energy': 282.76,\n 'Targa Resources': 13.58,\n 'Travelers': 107.81,\n 'NortonLifeLock': 20.7,\n 'Paccar': 84.49,\n 'Northrop Grumman': 311.81,\n 'NRG Energy': 30.63,\n 'Norfolk Southern': 211.85,\n 'Newell Brands': 17.01,\n 'Omnicom Group': 49.57,\n 'OneMain Holdings': 32.19,\n 'Public Storage': 226.26,\n \"O'Reilly Automotive\": 463.56,\n 'Oshkosh': 73.25,\n 'TJX Cos': 57.08,\n 'Ovintiv': 7.4,\n 'Occidental Petroleum': 9.68,\n 'Penske Automotive': 47.97,\n 'PayPal': 196.94,\n 'Palo Alto Networks': 250.53,\n 'Paychex': 79.35,\n \"People's United Financial\": 10.17,\n 'PBF Energy': 5.58,\n 'PepsiCo': 140.8,\n 'WestRock': 34.06,\n 'Procter & Gamble': 139.24,\n 'Parker-Hannifin': 200.73,\n 'PulteGroup': 47.46,\n 'Prologis': 102.16,\n 'Philip Morris International': 74.14,\n 'PPG': 121.78,\n 'Ulta Beauty': 228.63,\n 'Qurate Retail Group': 234.12,\n 'Royal Caribbean Cruises': 65.55,\n 'Reinsurance Group of America': 96.87,\n 'Weyerhaeuser': 379.28,\n 'Zebra Technologies': 258.48,\n 'Ralph Lauren': 69.12,\n 'RingCentral': 280.48,\n 'Rockwell Automation': 219.52,\n 'Roper Technologies': 393.48,\n 'Reliance Steel': 104.75,\n 'SVB Financial Group': 245.3,\n 'Signature Bank': 81.91,\n 'Starbucks': 86.74,\n 'Thermo Fisher Scientific': 438.2,\n 'SYNNEX': 144.28,\n 'Stifel Financial': 51.44,\n 'Seattle Genetics': 197.89,\n 'Sherwin-Williams': 690.8,\n 'SLM': 8.14,\n 'Schlumberger': 15.01,\n 'Synopsys': 217.09,\n 'Synovus Financial': 21.46,\n 'Splunk': 192.56,\n 'Spirit AeroSystems': 19.62,\n 'Sempra Energy': 119.13,\n 'SS&C Technologies': 61.42,\n 'Constellation Brands': 184.61,\n 'Stanley Black & Decker': 162.63,\n 'Skyworks Solutions': 152.1,\n 'Synchrony Financial': 26.65,\n 'TransDigm Group': 481.34,\n 'Teledyne Technologies': 307.75,\n 'Teradyne': 81.3,\n 'Teleflex': 337.24,\n 'Tenet Healthcare': 24.87,\n 'Toll Brothers': 49.48,\n 'TransUnion': 86.42,\n 'UGI': 32.64,\n 'Vulcan Materials': 134.38,\n 'ViacomCBS': 27.68,\n 'Valley Natl Bancorp': 6.9,\n 'VMware': 144.7,\n 'Verisk Analytics': 185.64,\n 'Vistra Energy': 17.89,\n 'Wayfair': 317.38,\n 'Western Alliance Bancorp.': 31.92,\n 'Walgreens Boots Alliance': 35.87,\n 'Workday': 220.52,\n 'WEC Energy Group': 98.25,\n 'Whirlpool': 183.19,\n 'Westlake Chemical': 62.25,\n 'Williams': 18.78,\n 'Slack Technologies': 27.92,\n 'Wintrust Financial': 40.99,\n 'Wynn Resorts': 72.07,\n 'Xcel Energy': 70.38,\n 'ExxonMobil': 33.13,\n 'Xerox': 18.67,\n 'Xylem': 82.56,\n 'Zimmer Biomet': 137.33,\n 'Zions Bancorp': 29.12}"
     },
     "execution_count": 8,
     "metadata": {},
     "output_type": "execute_result"
    }
   ],
   "source": [
    "import yfinance as yf\n",
    "company_stock_price_dict = {}\n",
    "for company_name in companies_best_match_symbol.keys():\n",
    "    try:\n",
    "        company_stock_price_dict[company_name] = yf.Ticker(companies_best_match_symbol[company_name]).history(period='1d').tail(1)['Close'].iloc[0]\n",
    "    except:\n",
    "        continue\n",
    "company_stock_price_dict"
   ],
   "metadata": {
    "collapsed": false,
    "pycharm": {
     "name": "#%%\n"
    }
   }
  },
  {
   "cell_type": "code",
   "execution_count": 11,
   "outputs": [
    {
     "name": "stdout",
     "output_type": "stream",
     "text": [
      "{'Agilent Technologies': 101.22, 'Packaging Corp of America': 107.65, 'Incyte': 92.43, 'Carrier Global': 30.77, 'Rite Aid': 9.61, 'American Airlines Group': 12.58, 'Waste Management': 112.89, 'American Express': 101.33, \"Lowe's\": 167.17, 'Applied Materials': 60.65, 'NCR': 25.11, 'Advance Auto Parts': 154.85, 'Apple': 116.79, 'KLA': 9.17, 'Delta Air Lines': 31.1, 'Ares Capital': 25.45, 'Public Service Enterprise Group': 55.07, 'S&P Global': 363.73, 'NiSource': 22.0, 'AbbVie': 87.14, 'AmerisourceBergen': 95.36, 'New York Community Bancorp': 8.22, 'Core-Mark Holding': 29.04, 'Visa': 203.35, 'UnitedHealth Group': 313.33, 'Mohawk Industries': 98.4, 'Northern Trust': 77.05, 'Abbott Laboratories': 108.64, 'Alleghany': 525.74, 'Masco': 55.14, 'Vertex Pharmaceuticals': 273.51, 'Bank of America': 24.1, 'Conagra Brands': 35.87, 'Caesars Entertainment': 57.1, 'Duke Energy': 90.05, 'CME Group': 170.25, 'Southern Company': 54.62, 'Gilead Sciences': 63.32, 'SBA Communications': 315.18, 'Realty Income': 62.28, 'IBM': 4.85, 'Otis Worldwide': 62.37, 'Dell Technologies': 67.54, 'AECOM Technology': 42.24, 'Lam Research': 339.13, 'Centene': 58.82, 'LabCorp': 4.26, 'Alexion Pharmaceuticals': 115.63, 'Equity Residential': 53.44, 'CarMax': 93.49, 'United Rentals': 175.35, 'MSCI': 80.52, 'Zoetis': 164.03, 'Adobe': 499.51, 'Vornado Realty': 34.65, 'CSX': 76.86, 'Motorola Solutions': 156.79, 'Analog Devices': 118.99, 'Regeneron Pharmaceuticals': 568.14, 'Archer Daniels Midland': 46.6, 'Hologic': 66.35, 'Alnylam Pharmaceuticals': 143.74, 'PPL': 7.6, 'Automatic Data Processing': 137.7, 'News Corp': 14.15, 'Invesco': 47.1, 'Cisco Systems': 38.8, 'Autodesk': 233.96, 'Republic Services': 92.97, 'Lear': 39.84, 'Capital One Financial': 72.93, 'Ameren': 79.86, 'F.N.B.': 6.71, 'Nucor': 45.05, 'American Equity Investment': 31.68, 'American Electric': 83.06, 'Norwegian Cruise Line Holdings': 17.35, 'AES': 17.92, 'Lincoln National': 31.89, 'American Financial Group': 68.95, 'Truist Financial': 38.75, 'Fluor': 9.15, 'Universal Health': 106.2, 'IDEX': 178.12, 'Aflac': 36.39, 'Cigna': 167.38, 'Ball': 16.45, 'ResMed': 169.51, 'Snap-on': 0.28, 'Clorox': 211.65, 'Amgen': 255.39, \"McDonald's\": 219.59, 'C.H. Robinson': 101.22, 'Walmart': 143.08, 'Kinder Morgan': 12.24, 'D.R. Horton': 77.54, 'E-Trade Financial': 49.26, 'AGNC Investment': 13.9, 'PG&E': 9.83, 'Booking Holdings': 1742.98, 'Raytheon Technologies': 57.46, 'Boston Properties': 82.83, 'HCA Healthcare': 124.56, 'J.B. Hunt Transport Services': 125.21, 'Manpower': 72.57, 'American International Group': 27.72, 'DXC Technology': 18.81, 'Honeywell International': 163.68, 'Mondelez International': 57.91, 'Micron Technology': 47.92, 'AT&T': 59.8, 'Merck & Co.': 81.64, 'Assurant': 122.47, 'Gallagher': 105.61, 'Akamai Technologies': 109.93, 'Duke Realty': 37.49, 'Air Lease': 30.93, 'Alphabet': 1490.09, 'Align Technology': 317.61, 'Quanta Services': 53.56, 'Alaska Air Group': 36.91, 'Allstate': 92.26, 'Ally Financial': 25.5, 'Salesforce.com': 253.45, 'Verizon Communications': 59.45, 'Jacobs Engineering': 91.45, 'Corning': 32.53, 'M&T Bank': 92.21, 'Markel': 965.65, 'TD Ameritrade Holding': 40.92, 'Arista Networks': 207.05, 'Advanced Micro Devices': 84.86, 'Ametek': 99.85, 'Morgan Stanley': 47.26, 'Prudential Financial': 63.51, 'Ameriprise Financial': 155.31, 'American Tower': 242.15, 'US Bancorp': 36.0, 'Amazon': 3221.26, 'AutoNation': 54.55, 'American National Insurance': 68.27, 'ServiceNow': 492.52, 'Lennar': 82.93, 'KeyCorp': 11.92, 'Ansys': 334.8, 'Anthem': 270.17, 'Heico': 105.42, 'Air Products & Chemicals': 294.67, 'L Brands': 6.2, 'Amphenol': 109.79, 'AvalonBay Communities': 155.6, 'Union Pacific': 194.23, 'Global Payments': 179.24, 'EOG Resources': 34.86, 'Comcast': 46.44, 'Alexandria Real Estate Equities': 163.19, 'Intel': 6.94, 'Target': 131.76, 'Invitation Homes': 28.77, 'Westinghouse Air Brake Technologies': 60.73, 'Aramark': 27.06, 'Biogen': 285.57, 'Arrow Electronics': 79.02, 'Leidos': 90.42, 'GCI Liberty': 83.58, 'Stryker': 208.67, 'NVR': 4228.31, 'DuPont de Nemours': 54.53, 'Crown Holdings': 75.98, 'Take-Two Interactive Software': 166.11, 'AutoZone': 1181.72, 'Waters': 195.68, 'International Flavors & Fragrances': 120.09, 'Atmos Energy': 95.47, 'Altice USA': 26.12, 'Activision Blizzard': 82.68, 'Twilio': 256.96, 'Huntington Bank': 9.15, 'Dow': 46.97, 'Deere & Company': 219.04, 'DaVita': 82.82, 'Corteva': 28.68, 'Edison International': 50.44, 'Broadcom': 368.6, 'Avnet': 26.31, 'Avery Dennison': 124.65, 'CVS Health': 57.84, 'American Water Works': 148.57, 'Discover Financial Services': 58.91, 'Marathon Petroleum': 27.71, 'Quest Diagnostics': 112.7, 'Baxter International': 79.72, 'Yum! Brands': 91.82, 'NetApp': 42.89, 'Boeing': 167.86, 'BlackRock': 567.91, 'Booz Allen Hamilton Holding': 83.05, 'First Horizon National': 9.59, 'Tesla': 448.16, 'Murphy Oil': 8.43, 'Uber': 37.14, 'JPMorgan Chase': 96.97, 'MetLife': 37.26, 'United Airlines Holdings': 35.18, 'Hess': 38.98, 'Best Buy': 114.09, 'State Street': 58.75, 'Qualcomm': 119.52, 'Oracle': 59.68, 'BioMarin Pharmaceutical': 75.82, 'Wells Fargo': 14.5, 'Becton Dickinson': 230.85, 'Tractor Supply': 31.59, 'Franklin Resources': 19.99, 'Roku': 200.34, 'United Parcel Service': 167.65, 'Berry Global Group': 49.35, 'Bank of New York Mellon': 34.17, 'BOK Financial': 51.64, 'Kroger': 34.02, 'Cerner': 72.31, 'CenturyLink': 9.95, 'First Republic Bank': 110.37, 'Bunge': 45.83, 'Copart': 107.22, 'US Foods': 22.58, 'Brighthouse Financial': 27.76, 'MGM Resorts': 21.82, 'NASDAQ': 71.28, 'Pfizer': 36.37, 'Bio-Rad Laboratories': 520.81, \"BJ's Wholesale Club\": 41.05, 'Okta': 219.3, 'Baker Hughes Company': 12.76, 'International Paper': 39.95, 'Steel Dynamics': 29.09, 'Comerica': 38.08, 'Principal Financial Group': 40.36, 'Bristol-Myers Squibb': 59.82, 'World Fuel Services': 21.27, 'United Natural Foods': 15.84, 'Boston Scientific': 38.42, 'Hertz Global Holdings': 1.1, 'Intuit': 332.34, 'Simon Property Group': 66.53, 'Broadridge Financial': 133.94, 'Tyson Foods': 59.22, 'Brown & Brown': 44.94, 'Exelon': 35.83, 'Oneok': 25.27, 'Square': 1.38, 'Danaher': 214.67, 'Burlington Stores': 208.54, 'HP': 113.33, 'Entergy': 25.15, 'BorgWarner': 39.54, 'Citigroup': 43.44, 'Cadence Design': 108.63, 'Cardinal Health': 46.08, 'NVIDIA': 544.58, 'Avis Budget Group': 28.73, 'Community Health Systems': 4.32, 'General Electric': 6.24, 'Caterpillar': 146.71, 'General Motors': 30.38, 'Cincinnati Financial': 76.49, 'PNC Financial Services': 109.43, 'CBRE Group': 47.4, 'Commerce Bank': 55.86, 'Sysco': 62.62, 'Coca-Cola': 39.58, 'Crown Castle International': 168.01, 'Carnival': 15.03, 'Cabot Oil & Gas': 16.85, 'Fiserv': 104.25, 'CDW': 123.5, 'DexCom': 413.84, 'Celanese': 106.04, 'Southwest Airlines': 37.93, 'Western Union': 21.48, 'Monster Beverage': 81.48, 'US Steel': 0.6057, 'FedEx': 254.08, 'Citizens Financial Group': 25.43, 'Cullen/Frost Bankers': 63.75, 'The Estée Lauder Companies': 2.48, 'Church & Dwight': 93.1, 'Chesapeake Energy': 3.93, 'Cummins': 207.04, 'Charter Communications': 635.11, 'Cintas': 341.93, 'Chewy': 58.93, 'Chimera Investment': 8.23, 'Kansas City Southern': 179.45, 'CIT Group': 18.72, 'Colgate-Palmolive': 77.06, 'IDEXX Laboratories': 394.78, 'Ross Stores': 94.83, 'Continental Resources': 11.76, 'Newmont Mining': 16.41, \"Moody's\": 293.5, 'Chipotle Mexican Grill': 1238.02, 'CMS Energy': 61.68, 'CNO Financial Group': 16.3, 'CenterPoint Energy': 19.4, 'Ecolab': 197.08, 'Cooper Companies': 338.77, 'ConocoPhillips': 32.43, 'Costco Wholesale': 358.46, 'Coty': 2.85, \"Macy's\": 5.84, 'Campbell Soup': 48.52, 'Cheniere Energy': 46.34, 'Tiffany & Co.': 116.03, 'DISH Network': 28.78, 'Dollar General': 211.52, 'Discovery': 40.1, 'CoStar Group': 865.38, 'Charles Schwab': 37.73, 'Cognizant': 69.33, 'Citrix Systems': 139.2, 'Dover': 107.14, 'Chevron': 70.42, 'Trimble': 48.87, 'Pinnacle West': 75.32, 'Humana': 415.36, 'Dominion Energy': 78.59, 'Howmet Aerospace': 17.23, 'Dollar Tree': 91.87, 'Pioneer Natural Resources': 84.57, 'Walt Disney': 123.31, 'XPO Logistics': 85.18, 'Digital Realty Trust': 147.25, 'Western Digital': 36.33, 'DocuSign': 222.26, 'Amdocs': 57.54, \"Domino's Pizza\": 426.99, 'Darden Restaurants': 104.88, 'Gap': 17.87, 'DTE Energy': 113.44, 'PVH': 60.59, 'Electronic Arts': 132.78, 'Progressive': 93.46, 'Fortive': 75.34, 'Moderna': 70.03, 'eBay': 52.38, 'Consolidated Edison': 79.04, 'Equifax': 158.01, 'VICI Properties': 23.72, 'Welltower': 56.42, 'Phillips 66': 50.28, 'Paycom': 320.44, 'Eastman Chemical': 76.31, 'Emerson Electric': 64.63, 'Eli Lilly': 144.29, 'Healthpeak Properties': 28.04, 'Equitable Holdings': 18.61, 'Equinix': 768.35, 'Eversource Energy': 85.45, 'Zoom Video Communications': 482.99, 'Essex Property Trust': 206.82, 'East West Bancorp': 32.82, 'Texas Instruments': 144.91, 'Huntington Ingalls Industries': 139.98, 'Evergy': 50.82, 'Edwards Lifesciences': 78.98, 'Expeditors International': 89.29, 'Expedia Group': 92.06, 'Extra Space Storage': 109.24, 'iHeartMedia': 8.13, 'Ford Motor': 6.75, 'First American Financial': 51.21, 'Diamondback Energy': 29.09, 'Fastenal': 44.76, 'Facebook': 266.63, 'Home Depot': 277.7, 'T Rowe Price': 42.58, 'Frontier Communications': 13.43, 'Freeport-McMoRan': 15.55, 'Fidelity National Information': 146.87, 'Unum': 2.26, 'FirstEnergy': 28.76, 'Fox': 28.21, 'Hormel Foods': 49.28, 'Fifth Third Bank': 26.56, 'Foot Locker': 34.11, 'Loews': 34.86, 'FleetCor Technologies': 237.18, 'Prosperity Bancshares': 51.56, 'FMC': 103.19, 'Fortinet': 120.25, 'TCF Financial': 23.81, 'Fidelity National Financial': 31.89, 'Microsoft': 212.46, 'Hilton': 21.38, 'Performance Food Group': 35.62, 'Goldman Sachs Group': 198.55, 'General Dynamics': 138.22, 'Sears Holdings': 11.35, 'General Mills': 62.57, 'Globe Life': 80.52, 'Starwood Property Trust': 15.22, 'Genworth Financial': 3.16, 'Genuine Parts': 94.94, 'Goodyear': 8.32, 'WW Grainger': 358.03, 'Hyatt Hotels': 53.64, 'Halliburton': 11.17, 'Hasbro': 82.95, 'Twitter': 46.7, 'HollyFrontier': 18.94, 'Hartford Financial Services': 36.77, 'Hewlett Packard Enterprise': 9.23, 'Henry Schein': 57.92, 'Host Hotels & Resorts': 11.14, 'Hershey': 143.93, 'Huntsman': 22.05, 'Old Dominion Freight Line': 182.77, 'IAC/InterActiveCorp': 124.78, 'Regions Financial': 11.53, 'Interactive Brokers Group': 48.58, 'Tenneco': 7.2, 'IntercontinentalExchange': 101.43, 'Medical Properties Trust': 18.18, 'Voya Financial': 47.92, 'Illumina': 309.61, 'INTL FCStone': 50.71, 'New Residential Investment': 8.12, 'Interpublic Group': 16.77, 'IQVIA': 158.33, 'VeriSign': 207.22, 'Intuitive Surgical': 710.52, 'Marriott International': 94.35, 'Illinois Tool Works': 190.9, 'Jabil Circuit': 34.63, 'JetBlue Airways': 11.46, 'Johnson & Johnson': 147.32, 'Jefferies Financial': 18.04, 'Raymond James Financial': 72.69, 'Jones Lang LaSalle': 96.5, 'Netflix': 527.51, 'Navient': 21.46, 'Nordstrom': 12.6, 'Kellogg': 64.38, 'Keurig Dr Pepper': 28.01, 'Keysight Technologies': 97.48, 'Kraft Heinz Company': 30.37, 'Kimberly-Clark': 147.63, 'Nike': 126.64, \"Kohl's\": 19.46, 'Textron': 35.11, 'Liberty Broadband': 144.34, 'L3Harris Technologies': 172.69, 'Xilinx': 105.91, 'LKQ': 28.01, 'Mid-america Apartment Communities': 120.29, 'Lockheed Martin': 380.89, 'Alliant Energy': 52.33, 'Ventas': 43.49, 'Las Vegas Sands': 46.22, 'Lamb Weston Holdings': 66.67, 'Live Nation Entertainment': 53.74, 'Mastercard': 343.37, 'Veeva Systems': 277.04, 'Microchip Technology': 107.05, 'McKesson': 146.96, 'McCormick': 193.2, 'Marketaxess Holdings': 482.97, 'Martin Marietta Materials': 234.87, 'Marsh & McLennan': 114.23, 'Freddie Mac': 27.17, '3M': 158.79, 'Altria Group': 38.92, 'Molina Healthcare': 188.18, 'Mosaic': 17.79, 'Marathon Oil': 3.95, 'Match Group': 116.21, 'Mettler-Toledo International': 970.92, 'Murphy USA': 127.92, 'Annaly Capital Management': 7.12, 'Maxim Integrated Products': 69.28, 'Valero Energy': 40.28, 'Snap': 145.12, 'NextEra Energy': 282.76, 'Targa Resources': 13.58, 'Travelers': 107.81, 'NortonLifeLock': 20.7, 'Paccar': 84.49, 'Northrop Grumman': 311.81, 'NRG Energy': 30.63, 'Norfolk Southern': 211.85, 'Newell Brands': 17.01, 'Omnicom Group': 49.57, 'OneMain Holdings': 32.19, 'Public Storage': 226.26, \"O'Reilly Automotive\": 463.56, 'Oshkosh': 73.25, 'TJX Cos': 57.08, 'Ovintiv': 7.4, 'Occidental Petroleum': 9.68, 'Penske Automotive': 47.97, 'PayPal': 196.94, 'Palo Alto Networks': 250.53, 'Paychex': 79.35, \"People's United Financial\": 10.17, 'PBF Energy': 5.58, 'PepsiCo': 140.8, 'WestRock': 34.06, 'Procter & Gamble': 139.24, 'Parker-Hannifin': 200.73, 'PulteGroup': 47.46, 'Prologis': 102.16, 'Philip Morris International': 74.14, 'PPG': 121.78, 'Ulta Beauty': 228.63, 'Qurate Retail Group': 234.12, 'Royal Caribbean Cruises': 65.55, 'Reinsurance Group of America': 96.87, 'Weyerhaeuser': 379.28, 'Zebra Technologies': 258.48, 'Ralph Lauren': 69.12, 'RingCentral': 280.48, 'Rockwell Automation': 219.52, 'Roper Technologies': 393.48, 'Reliance Steel': 104.75, 'SVB Financial Group': 245.3, 'Signature Bank': 81.91, 'Starbucks': 86.74, 'Thermo Fisher Scientific': 438.2, 'SYNNEX': 144.28, 'Stifel Financial': 51.44, 'Seattle Genetics': 197.89, 'Sherwin-Williams': 690.8, 'SLM': 8.14, 'Schlumberger': 15.01, 'Synopsys': 217.09, 'Synovus Financial': 21.46, 'Splunk': 192.56, 'Spirit AeroSystems': 19.62, 'Sempra Energy': 119.13, 'SS&C Technologies': 61.42, 'Constellation Brands': 184.61, 'Stanley Black & Decker': 162.63, 'Skyworks Solutions': 152.1, 'Synchrony Financial': 26.65, 'TransDigm Group': 481.34, 'Teledyne Technologies': 307.75, 'Teradyne': 81.3, 'Teleflex': 337.24, 'Tenet Healthcare': 24.87, 'Toll Brothers': 49.48, 'TransUnion': 86.42, 'UGI': 32.64, 'Vulcan Materials': 134.38, 'ViacomCBS': 27.68, 'Valley Natl Bancorp': 6.9, 'VMware': 144.7, 'Verisk Analytics': 185.64, 'Vistra Energy': 17.89, 'Wayfair': 317.38, 'Western Alliance Bancorp.': 31.92, 'Walgreens Boots Alliance': 35.87, 'Workday': 220.52, 'WEC Energy Group': 98.25, 'Whirlpool': 183.19, 'Westlake Chemical': 62.25, 'Williams': 18.78, 'Slack Technologies': 27.92, 'Wintrust Financial': 40.99, 'Wynn Resorts': 72.07, 'Xcel Energy': 70.38, 'ExxonMobil': 33.13, 'Xerox': 18.67, 'Xylem': 82.56, 'Zimmer Biomet': 137.33, 'Zions Bancorp': 29.12}\n"
     ]
    }
   ],
   "source": [
    "# b_file = open(\"company_stock_price_dict.pkl\", \"wb\")\n",
    "# pickle.dump(company_stock_price_dict, b_file)\n",
    "# b_file.close()\n",
    "company_stock_price_dict"
   ],
   "metadata": {
    "collapsed": false,
    "pycharm": {
     "name": "#%%\n"
    }
   }
  }
 ],
 "metadata": {
  "kernelspec": {
   "display_name": "Python 3",
   "language": "python",
   "name": "python3"
  },
  "language_info": {
   "codemirror_mode": {
    "name": "ipython",
    "version": 2
   },
   "file_extension": ".py",
   "mimetype": "text/x-python",
   "name": "python",
   "nbconvert_exporter": "python",
   "pygments_lexer": "ipython2",
   "version": "2.7.6"
  }
 },
 "nbformat": 4,
 "nbformat_minor": 0
}