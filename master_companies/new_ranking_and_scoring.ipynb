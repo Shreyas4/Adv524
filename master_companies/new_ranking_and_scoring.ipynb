{
 "cells": [
  {
   "cell_type": "code",
   "execution_count": 37,
   "metadata": {
    "collapsed": true
   },
   "outputs": [
    {
     "name": "stdout",
     "output_type": "stream",
     "text": [
      "(899, 8) (899, 3)\n",
      "CA Wily Technology\n",
      "Tacit Software\n",
      "Netcordia, Inc.\n"
     ]
    }
   ],
   "source": [
    "import pandas as pd\n",
    "\n",
    "pre_links_update_df = pd.read_csv('final_companies_data.csv')\n",
    "temp_updated_links_df = pd.read_csv('temp_updated_links.csv')\n",
    "\n",
    "pre_links_update_df.drop('Rank', axis=1, inplace=True)\n",
    "page_ranks_dict = {}\n",
    "for i, r in pd.read_csv('d.csv').iterrows():\n",
    "    pg_rank = 0\n",
    "    try:\n",
    "        pg_rank = float(str(r['pg_rank']))\n",
    "    except:\n",
    "        pg_rank = 0\n",
    "    page_ranks_dict[str(r['domain'])] = pg_rank\n",
    "\n",
    "legit_companies = set(temp_updated_links_df['name'].unique())\n",
    "rows_to_delete = []\n",
    "\n",
    "for i, r in pre_links_update_df.iterrows():\n",
    "    if r['name'] not in legit_companies:\n",
    "        rows_to_delete.append(i)\n",
    "pre_links_update_df = pre_links_update_df.drop(rows_to_delete)\n",
    "\n",
    "temp_updated_links_df = temp_updated_links_df[['name', 'students_careers_url', 'website']]\n",
    "pre_links_update_df = pre_links_update_df.drop(['students_careers_url', 'website'], axis=1)\n",
    "print(pre_links_update_df.shape, temp_updated_links_df.shape)\n",
    "final_df = pd.merge(pre_links_update_df, temp_updated_links_df, on='name')\n",
    "list_of_scores = []\n",
    "max_num_employees = 0\n",
    "max_revenue = 0\n",
    "for i, r in final_df.iterrows():\n",
    "    if len(r['num_employees']) > 1:\n",
    "        r['num_employees'] = r['num_employees'].replace(',', '')\n",
    "        r['num_employees'] = r['num_employees'].strip()\n",
    "        if r['num_employees'] == '-':\n",
    "            continue\n",
    "        max_num_employees = max(max_num_employees, int(r['num_employees']))\n",
    "    if len(r['Revenue(in millions)']) > 1:\n",
    "        r['Revenue(in millions)'] = r['Revenue(in millions)'].replace(',', '')\n",
    "        r['Revenue(in millions)'] = r['Revenue(in millions)'].strip()\n",
    "        if r['Revenue(in millions)'] == '-':\n",
    "            continue\n",
    "        max_revenue = max(max_revenue, float(r['Revenue(in millions)']))\n",
    "for i, r in final_df.iterrows():\n",
    "    score = 0\n",
    "    try:\n",
    "        score = 4 * page_ranks_dict[r['website']]\n",
    "    except:\n",
    "        print(r['name'])\n",
    "    if len(r['num_employees']) > 1:\n",
    "        r['num_employees'] = r['num_employees'].replace(',', '')\n",
    "        r['num_employees'] = r['num_employees'].strip()\n",
    "        if r['num_employees'] is not '-':\n",
    "            score += 3 * int(r['num_employees']) / max_num_employees\n",
    "    if len(r['Revenue(in millions)']) > 1:\n",
    "        r['Revenue(in millions)'] = r['Revenue(in millions)'].replace(',', '')\n",
    "        r['Revenue(in millions)'] = r['Revenue(in millions)'].strip()\n",
    "        if r['Revenue(in millions)'] is not '-':\n",
    "            score += 3 * float(r['Revenue(in millions)']) / max_revenue\n",
    "    list_of_scores.append(score)\n",
    "final_df['score'] = list_of_scores\n",
    "final_df = final_df.sort_values(by='score', ascending=False)\n",
    "final_df.to_csv('final_df.csv', index=False)"
   ]
  }
 ],
 "metadata": {
  "kernelspec": {
   "display_name": "Python 3",
   "language": "python",
   "name": "python3"
  },
  "language_info": {
   "codemirror_mode": {
    "name": "ipython",
    "version": 2
   },
   "file_extension": ".py",
   "mimetype": "text/x-python",
   "name": "python",
   "nbconvert_exporter": "python",
   "pygments_lexer": "ipython2",
   "version": "2.7.6"
  }
 },
 "nbformat": 4,
 "nbformat_minor": 0
}