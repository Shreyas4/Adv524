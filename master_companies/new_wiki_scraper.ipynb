{
 "cells": [
  {
   "cell_type": "code",
   "execution_count": 6,
   "metadata": {
    "collapsed": true,
    "pycharm": {
     "name": "#%%\n"
    }
   },
   "outputs": [],
   "source": [
    "import pickle, pandas as pd\n",
    "from fuzzywuzzy import process\n",
    "from urllib.parse import urlparse\n",
    "with open('list_of_row_dicts.pkl', 'rb') as f:\n",
    "    list_of_row_dicts = pickle.load(f)\n",
    "\n",
    "page_rank_lookup = {}\n",
    "d = pd.read_csv('d.csv')\n",
    "for r in d.iterrows():\n",
    "    page_rank_lookup[r['domain']] = float(str(r['pg_rank']))\n",
    "\n",
    "for i in range(0, len(list_of_row_dicts)):\n",
    "    row_dict = list_of_row_dicts[i]\n",
    "    if row_dict['website'] is '':\n",
    "        parsed_uri = urlparse(row_dict['students_careers_url'])\n",
    "        row_dict['website'] = '{uri.scheme}://{uri.netloc}/'.format(uri=parsed_uri)\n",
    "        list_of_row_dicts[i] = row_dict"
   ]
  }
 ],
 "metadata": {
  "kernelspec": {
   "display_name": "Python 3",
   "language": "python",
   "name": "python3"
  },
  "language_info": {
   "codemirror_mode": {
    "name": "ipython",
    "version": 2
   },
   "file_extension": ".py",
   "mimetype": "text/x-python",
   "name": "python",
   "nbconvert_exporter": "python",
   "pygments_lexer": "ipython2",
   "version": "2.7.6"
  }
 },
 "nbformat": 4,
 "nbformat_minor": 0
}