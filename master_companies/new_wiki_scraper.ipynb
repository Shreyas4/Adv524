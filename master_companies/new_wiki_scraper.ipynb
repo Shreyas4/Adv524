{
 "cells": [
  {
   "cell_type": "code",
   "execution_count": 27,
   "metadata": {
    "collapsed": true,
    "pycharm": {
     "name": "#%%\n"
    }
   },
   "outputs": [],
   "source": [
    "import pickle, pandas as pd\n",
    "from fuzzywuzzy import fuzz\n",
    "from urllib.parse import urlparse\n",
    "\n",
    "def get_max_token_ratio(dict_row):\n",
    "    max_token_set_ratio = 0\n",
    "    for token in dict_row['website'].split('.'):\n",
    "        max_token_set_ratio = max(max_token_set_ratio, fuzz.token_set_ratio(token, dict_row['name'].lower()))\n",
    "    return max_token_set_ratio\n",
    "\n",
    "with open('list_of_row_dicts.pkl', 'rb') as f:\n",
    "    list_of_row_dicts = pickle.load(f)\n",
    "\n",
    "page_rank_lookup = {}\n",
    "d = pd.read_csv('d.csv')\n",
    "for _, r in d.iterrows():\n",
    "    page_rank_lookup[r['domain']] = float(str(r['pg_rank']))\n",
    "master_list = []\n",
    "for i in range(0, len(list_of_row_dicts)):\n",
    "    row_dict = list_of_row_dicts[i]\n",
    "    row_dict['website'] = row_dict['website'].strip().lower()\n",
    "    if row_dict['website'] is '':\n",
    "        parsed_uri = urlparse(row_dict['students_careers_url'])\n",
    "        row_dict['website'] = '{uri.netloc}'.format(uri=parsed_uri).strip()\n",
    "        if row_dict['website'] == '':\n",
    "            continue\n",
    "        if get_max_token_ratio(row_dict) > 90:\n",
    "            if row_dict['website'] in page_rank_lookup.keys():\n",
    "                row_dict['pg_rank'] = page_rank_lookup[row_dict['website']]\n",
    "                master_list.append(row_dict)\n",
    "    else:\n",
    "        if row_dict['website'] in page_rank_lookup.keys():\n",
    "            row_dict['pg_rank'] = page_rank_lookup[row_dict['website']]\n",
    "            master_list.append(row_dict)\n",
    "final_df = pd.DataFrame(master_list)\n",
    "final_df.to_csv('final_companies_data.csv')"
   ]
  }
 ],
 "metadata": {
  "kernelspec": {
   "display_name": "Python 3",
   "language": "python",
   "name": "python3"
  },
  "language_info": {
   "codemirror_mode": {
    "name": "ipython",
    "version": 2
   },
   "file_extension": ".py",
   "mimetype": "text/x-python",
   "name": "python",
   "nbconvert_exporter": "python",
   "pygments_lexer": "ipython2",
   "version": "2.7.6"
  }
 },
 "nbformat": 4,
 "nbformat_minor": 0
}