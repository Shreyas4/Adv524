{
 "cells": [
  {
   "cell_type": "code",
   "execution_count": 7,
   "outputs": [
    {
     "data": {
      "text/plain": "1430"
     },
     "execution_count": 7,
     "metadata": {},
     "output_type": "execute_result"
    }
   ],
   "source": [
    "import pickle\n",
    "try:\n",
    "    from googlesearch import search\n",
    "except ImportError:\n",
    "    print(\"No module named 'google' found\")\n",
    "with open('company_url_dict_updated.pkl', 'rb') as f:\n",
    "    x = pickle.load(f)\n",
    "\n",
    "count=1\n",
    "new_dict = {}\n",
    "for k, v in x.items():\n",
    "    # if len(v)>0:\n",
    "    #     count+=1\n",
    "    if len(v)==0:\n",
    "        for link in search(k+\" student careers website\", tld=\"com\", num=1, stop=1, pause=0):\n",
    "            print(k, link, count)\n",
    "            count+=1\n",
    "            new_dict[k] = link\n",
    "count"
   ],
   "metadata": {
    "collapsed": false,
    "pycharm": {
     "name": "#%%\n"
    }
   }
  },
  {
   "cell_type": "code",
   "execution_count": 5,
   "outputs": [],
   "source": [
    "# for k, v in new_dict.items():\n",
    "#     x[k] = v\n",
    "# count = 1\n",
    "# for k, v in x.items():\n",
    "#     if len(v)>0:\n",
    "#         count+=1"
   ],
   "metadata": {
    "collapsed": false,
    "pycharm": {
     "name": "#%%\n"
    }
   }
  },
  {
   "cell_type": "code",
   "execution_count": 6,
   "outputs": [],
   "source": [
    "# a_file = open(\"company_url_dict_updated.pkl\", \"wb\")\n",
    "# pickle.dump(x, a_file)\n",
    "# a_file.close()"
   ],
   "metadata": {
    "collapsed": false,
    "pycharm": {
     "name": "#%%\n"
    }
   }
  }
 ],
 "metadata": {
  "kernelspec": {
   "display_name": "Python 3",
   "language": "python",
   "name": "python3"
  },
  "language_info": {
   "codemirror_mode": {
    "name": "ipython",
    "version": 2
   },
   "file_extension": ".py",
   "mimetype": "text/x-python",
   "name": "python",
   "nbconvert_exporter": "python",
   "pygments_lexer": "ipython2",
   "version": "2.7.6"
  }
 },
 "nbformat": 4,
 "nbformat_minor": 0
}