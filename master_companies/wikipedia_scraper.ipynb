{
 "cells": [
  {
   "cell_type": "code",
   "execution_count": 6,
   "outputs": [
    {
     "name": "stderr",
     "output_type": "stream",
     "text": [
      "en.wikipedia.org (parse) Microsoft\n",
      "en.wikipedia.org (imageinfo) File:building92microsoft.jpg\n",
      "Microsoft (en) data\n",
      "{\n",
      "  image: <list(1)> {'kind': 'parse-image', 'file': 'File:building9...\n",
      "  infobox: <dict(34)> name, logo, logo_size, logo_alt, logo_captio...\n",
      "  iwlinks: <list(4)> https://commons.wikimedia.org/wiki/Category:M...\n",
      "  pageid: 19001\n",
      "  parsetree: <str(186186)> <root><template><title>Short descriptio...\n",
      "  requests: <list(2)> parse, imageinfo\n",
      "  title: Microsoft\n",
      "  wikibase: Q2283\n",
      "  wikidata_url: https://www.wikidata.org/wiki/Q2283\n",
      "  wikitext: <str(157616)> {{Short description|American technology ...\n",
      "}\n"
     ]
    },
    {
     "data": {
      "text/plain": "{'name': 'Microsoft Corporation',\n 'logo': 'Microsoft logo and wordmark.svg',\n 'logo_size': '250px',\n 'logo_alt': 'A square divided into four sub-squares, colored red, green, yellow and blue (clockwise), with the company name appearing to its right.',\n 'logo_caption': 'Logo since August 17, 2012',\n 'image': 'building92microsoft.jpg',\n 'image_size': '260px',\n 'image_caption': 'Building 92 on the [[Microsoft Redmond campus]]',\n 'type': '[[Public company|Public]]',\n 'traded_as': '{{Unbulleted list\\n| |NASDAQ|MSFT|\\n| [[NASDAQ-100]] component\\n| [[Dow Jones Industrial Average|DJIA]] component\\n| [[S&P 100]] component\\n| [[S&P 500]] component}} {{NASDAQ|MSFT}}',\n 'ISIN': 'US5949181045',\n 'industry': '{{Unbulleted list\\n| [[Software development]]\\n| [[Computer hardware]]\\n| [[Consumer electronics]]\\n| [[Social networking service]]\\n| [[Cloud computing]]\\n| [[Video game industry|Video games]]\\n| [[Internet]]\\n| [[Corporate venture capital]]}}',\n 'predecessor': '[[Traf-O-Data]]',\n 'founded': '{{Start date and age|1975|04|04}} in {{Nowrap|[[Albuquerque, New Mexico]], U.S.}}',\n 'founders': '{{Unbulleted list\\n| [[Bill Gates]]\\n| [[Paul Allen]]}}',\n 'hq_location': '[[Microsoft Redmond campus|One Microsoft Way]]<br />[[Redmond, Washington]]',\n 'hq_location_country': 'U.S.',\n 'area_served': 'Worldwide',\n 'key_people': \"{{Unbulleted list\\n| '''[[Chairman]]''': [[John W. Thompson]]\\n| '''[[Chief executive officer|CEO]]''': [[Satya Nadella]]\\n| '''[[President (corporate title)|President]]''': [[Brad Smith (American lawyer)|Brad Smith]]\\n| '''[[Technical advisor]]''': [[Bill Gates]]}}\",\n 'products': \"{{Flatlist|\\n* '''[[List of Microsoft software|List of software]]'''\\n* [[Microsoft Windows|Windows]]\\n* [[Microsoft Office|Office]]\\n* [[Microsoft Servers|Servers]]\\n* [[Skype]]\\n* [[Microsoft Visual Studio|Visual Studio]]\\n* [[Microsoft Dynamics|Dynamics]]\\n* [[Xbox]]\\n* [[Microsoft Surface|Surface]]\\n* [[Microsoft Mobile|Mobile]]}}\",\n 'services': '{{Flatlist|\\n* [[Microsoft Azure|Azure]]\\n* [[Microsoft Bing|Bing]]\\n* [[LinkedIn]]\\n* [[Yammer]]\\n* [[Microsoft Developer Network|MSDN]]\\n* [[Office 365]]\\n* [[OneDrive]]\\n* [[Outlook.com]]\\n* [[GitHub]]\\n* [[Microsoft TechNet|TechNet]]\\n* [[Microsoft Pay|Pay]]\\n* [[Microsoft Store (digital)|Microsoft Store]]\\n* [[Windows Update]]\\n* [[Xbox Game Pass]]\\n* [[Xbox Live]]}}',\n 'revenue': '{{Increase}} {{US$|143 billion|link|=|yes}}',\n 'revenue_year': '2020',\n 'operating_income': '{{Increase}} {{US$|53 billion}}',\n 'income_year': '2020',\n 'net_income': '{{Increase}} {{US$|44.3 billion}}',\n 'net_income_year': '2020',\n 'assets': '{{Increase}} {{US$|301.3 billion}}',\n 'assets_year': '2020',\n 'equity': '{{Increase}} {{US$|118.3 billion}}',\n 'equity_year': '2020',\n 'num_employees': '{{Increase}} 156,439',\n 'num_employees_year': '2020',\n 'website': '{{URL|https://www.microsoft.com}}'}"
     },
     "execution_count": 6,
     "metadata": {},
     "output_type": "execute_result"
    }
   ],
   "source": [
    "import wptools, wikipedia\n",
    "# type: Public/Private\n",
    "# industry:\n",
    "# revenue\n",
    "# hq_location\n",
    "# num_employees\n",
    "\n",
    "wptools.page(wikipedia.search(\"Microsoft\")[0]).get_parse().data['infobox']"
   ],
   "metadata": {
    "collapsed": false,
    "pycharm": {
     "name": "#%%\n"
    }
   }
  }
 ],
 "metadata": {
  "kernelspec": {
   "display_name": "Python 3",
   "language": "python",
   "name": "python3"
  },
  "language_info": {
   "codemirror_mode": {
    "name": "ipython",
    "version": 2
   },
   "file_extension": ".py",
   "mimetype": "text/x-python",
   "name": "python",
   "nbconvert_exporter": "python",
   "pygments_lexer": "ipython2",
   "version": "2.7.6"
  }
 },
 "nbformat": 4,
 "nbformat_minor": 0
}