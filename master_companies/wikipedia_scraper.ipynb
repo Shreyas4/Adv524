{
 "cells": [
  {
   "cell_type": "code",
   "execution_count": 36,
   "outputs": [
    {
     "name": "stderr",
     "output_type": "stream",
     "text": [
      "en.wikipedia.org (parse) Microsoft Inc.\n",
      "en.wikipedia.org (imageinfo) File:building92microsoft.jpg\n",
      "Microsoft (en) data\n",
      "{\n",
      "  image: <list(1)> {'kind': 'parse-image', 'file': 'File:building9...\n",
      "  infobox: <dict(34)> name, logo, logo_size, logo_alt, logo_captio...\n",
      "  iwlinks: <list(4)> https://commons.wikimedia.org/wiki/Category:M...\n",
      "  pageid: 19001\n",
      "  parsetree: <str(186163)> <root><template><title>Short descriptio...\n",
      "  requests: <list(2)> parse, imageinfo\n",
      "  title: Microsoft\n",
      "  wikibase: Q2283\n",
      "  wikidata_url: https://www.wikidata.org/wiki/Q2283\n",
      "  wikitext: <str(157593)> {{Short description|American technology ...\n",
      "}\n"
     ]
    },
    {
     "data": {
      "text/plain": "'{{Increase}} 156,439'"
     },
     "execution_count": 36,
     "metadata": {},
     "output_type": "execute_result"
    }
   ],
   "source": [
    "import wptools, wikipedia\n",
    "\n",
    "wptools.page('Microsoft Inc.').get_parse().data['infobox']['num_employees']"
   ],
   "metadata": {
    "collapsed": false,
    "pycharm": {
     "name": "#%%\n"
    }
   }
  }
 ],
 "metadata": {
  "kernelspec": {
   "display_name": "Python 3",
   "language": "python",
   "name": "python3"
  },
  "language_info": {
   "codemirror_mode": {
    "name": "ipython",
    "version": 2
   },
   "file_extension": ".py",
   "mimetype": "text/x-python",
   "name": "python",
   "nbconvert_exporter": "python",
   "pygments_lexer": "ipython2",
   "version": "2.7.6"
  }
 },
 "nbformat": 4,
 "nbformat_minor": 0
}