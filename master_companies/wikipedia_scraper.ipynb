{
 "cells": [
  {
   "cell_type": "code",
   "execution_count": 20,
   "outputs": [
    {
     "name": "stderr",
     "output_type": "stream",
     "text": [
      "en.wikipedia.org (parse) Google (company)\n",
      "en.wikipedia.org (imageinfo) File:Googleplex HQ (cropped).jpg\n",
      "Google (en) data\n",
      "{\n",
      "  image: <list(1)> {'kind': 'parse-image', 'file': 'File:Googleple...\n",
      "  infobox: <dict(23)> name, logo, logo_size, logo_alt, logo_captio...\n",
      "  iwlinks: <list(8)> https://commons.wikimedia.org/wiki/Google, ht...\n",
      "  pageid: 1092923\n",
      "  parsetree: <str(231847)> <root><template><title>About</title><pa...\n",
      "  requests: <list(2)> parse, imageinfo\n",
      "  title: Google\n",
      "  wikibase: Q95\n",
      "  wikidata_url: https://www.wikidata.org/wiki/Q95\n",
      "  wikitext: <str(195921)> {{About|the company|the search engine|Go...\n",
      "}\n"
     ]
    },
    {
     "data": {
      "text/plain": "{'name': 'Google, LLC',\n 'logo': 'Google 2015 logo.svg',\n 'logo_size': '250px',\n 'logo_alt': 'Each letter of \"Google\" is colored (from left to right) in blue, red, yellow, blue, green, and red.',\n 'logo_caption': 'Logo {{as of|2015|lc|=|y|since|=|y}}',\n 'image': 'Googleplex HQ (cropped).jpg',\n 'image_size': '250px',\n 'image_caption': \"Google's headquarters, the [[Googleplex]]\",\n 'former_name': 'Google Inc. (1998–2017)',\n 'type': '[[Limited liability company]], [[Subsidiary]]',\n 'industry': '{{Unbulleted list\\n| [[Internet]]\\n| [[Cloud computing]]\\n| [[Computer software]]\\n| [[Computer hardware]]\\n| [[Artificial intelligence]]\\n| [[Advertising]]}}',\n 'founded': \"{{Start date and age|1998|09|04}} {{efn|Google was originally incorporated on September 4, 1998, however, since 2002, the company has celebrated its anniversaries on various days in September, most frequently on September 27.|ref|{{cite web |url=https://time.com/3250807/google-anniversary/ |title=Google Used to Be the Company That Did 'Nothing But Search' |first=Alex |last=Fitzpatrick |date=September 4, 2014 |website=[[Time (magazine)|Time]]}}|</ref>|ref|{{cite web |url=https://www.telegraph.co.uk/technology/2019/09/27/when-is-googles-21st-birthday-doodle/ |title=When is Google's birthday – and why are people confused? |author=Telegraph Reporters |date=September 27, 2019 |website=[[The Daily Telegraph|The Telegraph]]}}|</ref>|ref|{{cite web |url=https://www.independent.co.uk/life-style/gadgets-and-tech/google-birthday-surprise-spinner-date-problem-start-company-a7968951.html |title=Google birthday: The one big problem with the company's celebratory doodle |first=Andrew |last=Griffin |date=September 27, 2019 |website=[[The Independent]]}}|</ref>| The shift in dates reportedly happened to celebrate index-size milestones in tandem with the birthday.|ref|{{cite web |url=https://www.theguardian.com/business/2008/sep/05/google.mediabusiness |title=Happy birthday Google |first=Richard |last=Wray |date=September 5, 2008 |website=[[The Guardian]]}}|</ref>}} in [[Menlo Park, California|Menlo Park]], California, U.S. The shift in dates reportedly happened to celebrate index-size milestones in tandem with the birthday.\",\n 'founders': '{{Unbulleted list\\n| [[Larry Page]]\\n| [[Sergey Brin]]}}',\n 'hq_location': '[[Googleplex|1600 Amphitheatre Parkway]]',\n 'hq_location_city': '[[Mountain View, California]]',\n 'hq_location_country': 'U.S.',\n 'area_served': 'Worldwide',\n 'key_people': '{{Unbulleted list\\n| [[Sundar Pichai]] ([[Chief executive officer|CEO]])\\n| [[Ruth Porat]] ([[Chief financial officer|CFO]])}}',\n 'products': \"'''[[List of Google products|List of products]]'''\",\n 'num_employees': '114,096',\n 'num_employees_year': '{{As of|2019|9|30|alt|=|Q3 2019}}',\n 'parent': '[[Alphabet Inc.]]',\n 'website': '{{URL|https://www.google.com/|google.com}}'}"
     },
     "execution_count": 20,
     "metadata": {},
     "output_type": "execute_result"
    }
   ],
   "source": [
    "import wptools, wikipedia\n",
    "\n",
    "wptools.page('Google (company)').get_parse().data['infobox']"
   ],
   "metadata": {
    "collapsed": false,
    "pycharm": {
     "name": "#%%\n"
    }
   }
  }
 ],
 "metadata": {
  "kernelspec": {
   "display_name": "Python 3",
   "language": "python",
   "name": "python3"
  },
  "language_info": {
   "codemirror_mode": {
    "name": "ipython",
    "version": 2
   },
   "file_extension": ".py",
   "mimetype": "text/x-python",
   "name": "python",
   "nbconvert_exporter": "python",
   "pygments_lexer": "ipython2",
   "version": "2.7.6"
  }
 },
 "nbformat": 4,
 "nbformat_minor": 0
}