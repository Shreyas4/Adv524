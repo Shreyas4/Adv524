{
 "cells": [
  {
   "cell_type": "code",
   "execution_count": 19,
   "outputs": [
    {
     "name": "stderr",
     "output_type": "stream",
     "text": [
      "en.wikipedia.org (parse) Amazon (company)\n",
      "en.wikipedia.org (imageinfo) File:Amazon Spheres 05.jpg\n",
      "Amazon (company) (en) data\n",
      "{\n",
      "  image: <list(1)> {'kind': 'parse-image', 'file': 'File:Amazon Sp...\n",
      "  infobox: <dict(33)> name, logo, logo_size, logo_caption, image, ...\n",
      "  iwlinks: <list(2)> https://commons.wikimedia.org/wiki/Category:A...\n",
      "  pageid: 90451\n",
      "  parsetree: <str(195517)> <root><template><title>pp</title><part>...\n",
      "  requests: <list(2)> parse, imageinfo\n",
      "  title: Amazon (company)\n",
      "  wikibase: Q3884\n",
      "  wikidata_url: https://www.wikidata.org/wiki/Q3884\n",
      "  wikitext: <str(152957)> {{pp|small=yes}}{{short description|Amer...\n",
      "}\n"
     ]
    },
    {
     "data": {
      "text/plain": "{'name': 'Amazon.com, Inc.',\n 'logo': 'Amazon logo.svg',\n 'logo_size': '175px',\n 'logo_caption': 'Logo since 2000',\n 'image': 'Amazon Spheres 05.jpg',\n 'image_caption': 'The [[Amazon Spheres]], part of the [[Doppler (building)|Amazon headquarters campus in Seattle]]',\n 'trade_name': 'Amazon',\n 'former_name': 'Cadabra, Inc. (1994–95)',\n 'type': '[[Public company|Public]]',\n 'traded_as': '{{Unbulleted list|NASDAQ|AMZN|[[NASDAQ-100]] component|[[S&P 100]] component|[[S&P 500]] component}} {{NASDAQ|AMZN}}',\n 'ISIN': 'US0231351067',\n 'industry': '{{plainlist|\\n* [[Cloud computing]],\\n* [[e-commerce]],\\n* [[artificial intelligence]],\\n* [[consumer electronics]],\\n* [[digital distribution]],\\n* [[self-driving cars]]}}',\n 'founded': '{{Start date and age|1994|07|05}} <br>[[Bellevue, Washington]], U.S.',\n 'founder': '[[Jeff Bezos]]',\n 'hq_location_city': '[[Seattle]], [[Washington (state)|Washington]]',\n 'hq_location_country': 'U.S.',\n 'area_served': 'Worldwide',\n 'key_people': '{{Unbulleted list|[[Jeff Bezos]] |small|([[President (corporate title)|President]], [[Chief executive officer|CEO]] and [[chairman|Chairman of Board]])|Brian T. Olsavsky |small|([[Vice president|Senior VP]] and [[Chief financial officer|CFO]])}} {{small|([[President (corporate title)|President]], [[Chief executive officer|CEO]] and [[chairman|Chairman of Board]])}} {{small|([[Vice president|Senior VP]] and [[Chief financial officer|CFO]])}}',\n 'products': '{{Hlist|[[Amazon Echo|Echo]]|[[Amazon Fire tablet|Fire Tablet]]|[[Amazon Fire TV|Fire TV]]|[[Fire OS]]|[[Amazon Kindle|Kindle]]}}',\n 'services': '{{Hlist|[[Amazon (company)#Website|Amazon.com]]|[[Amazon Alexa]]|[[Amazon Appstore]]|[[Amazon Music]]|[[Amazon Prime]]|[[Amazon Prime Video]]|[[Amazon Web Services]]}}',\n 'revenue': '{{increase}} {{US$|280.522 billion|link|=|yes}}',\n 'revenue_year': '2019',\n 'operating_income': '{{increase}} {{US$|14.541 billion}}',\n 'income_year': '2019',\n 'net_income': '{{increase}} {{US$|11.588 billion}}',\n 'net_income_year': '2019',\n 'assets': '{{increase}} {{US$|225.248 billion}}',\n 'assets_year': '2019',\n 'equity': '{{increase}} {{US$|62.06 billion}}',\n 'equity_year': '2019',\n 'num_employees': '{{increase}} 1,000,000 (July 2020)',\n 'subsid': '{{Hlist|[[A9.com]]|[[AbeBooks]]|[[Amazon Air]]|[[Alexa Internet]]|[[Amazon Books]]|[[Amazon Game Studios]]|[[Amazon Lab126]]|[[Amazon Logistics, Inc]].|[[Amazon Publishing]]|[[Amazon Robotics]]|Amazon.com Services|[[Amazon Studios]]|[[Audible Inc.|Audible]]|[[Body Labs]]|[[Amazon Web Services|AWS]]|[[Book Depository]]|[[ComiXology]]|[[Goodreads]]|[[Graphiq]]|[[IMDb]]|[[Ring Inc.|Ring]]|[[Souq.com]]|[[Twitch Interactive]]|[[Whole Foods Market]]|[[Woot]]|[[Zappos]]}}',\n 'website': '{{URL|https://www.aboutamazon.com/}}'}"
     },
     "execution_count": 19,
     "metadata": {},
     "output_type": "execute_result"
    }
   ],
   "source": [
    "import wptools, wikipedia\n",
    "\n",
    "wptools.page('Amazon (company)').get_parse().data['infobox']"
   ],
   "metadata": {
    "collapsed": false,
    "pycharm": {
     "name": "#%%\n"
    }
   }
  }
 ],
 "metadata": {
  "kernelspec": {
   "display_name": "Python 3",
   "language": "python",
   "name": "python3"
  },
  "language_info": {
   "codemirror_mode": {
    "name": "ipython",
    "version": 2
   },
   "file_extension": ".py",
   "mimetype": "text/x-python",
   "name": "python",
   "nbconvert_exporter": "python",
   "pygments_lexer": "ipython2",
   "version": "2.7.6"
  }
 },
 "nbformat": 4,
 "nbformat_minor": 0
}